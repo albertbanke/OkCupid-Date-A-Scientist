{
 "cells": [
  {
   "cell_type": "markdown",
   "metadata": {},
   "source": [
    "### Project: Predicting Zodiac signs from user input in other variables\n",
    "_____________________________________________________________________________________________________________________________________________"
   ]
  },
  {
   "cell_type": "markdown",
   "metadata": {},
   "source": [
    "Project scope\n",
    "\n",
    "***Goal***: To draw insights from the project data included and illustrate interesting features by answering questions with visualizations summary statistics. Then applying machine learning models to answer questions about how we can predict zodiac signs\n",
    "\n",
    "***Data***: There are one datasets. The data is about from the OkCupid platform which enables users to meet potential partners and friends\n",
    "\n",
    "***Analysis***: We use exploratory data analysis and hypothesis testing to assess the data and determine associations in the data. Then supervised machine learning to predict the zodiac signs for users who have not entered the information\n",
    "\n",
    "***Questions***: How does input in other variables affect the prediction of zodiac signs?"
   ]
  }
 ],
 "metadata": {
  "kernelspec": {
   "display_name": "Python 3",
   "language": "python",
   "name": "python3"
  },
  "language_info": {
   "codemirror_mode": {
    "name": "ipython",
    "version": 3
   },
   "file_extension": ".py",
   "mimetype": "text/x-python",
   "name": "python",
   "nbconvert_exporter": "python",
   "pygments_lexer": "ipython3",
   "version": "3.8.8"
  }
 },
 "nbformat": 4,
 "nbformat_minor": 4
}
